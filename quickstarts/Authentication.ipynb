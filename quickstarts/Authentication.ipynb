{
  "cells": [
    {
      "cell_type": "markdown",
      "metadata": {
        "id": "view-in-github",
        "colab_type": "text"
      },
      "source": [
        "<a href=\"https://colab.research.google.com/github/KGtecnologia/KGtecnologia_WRO2/blob/main/quickstarts/Authentication.ipynb\" target=\"_parent\"><img src=\"https://colab.research.google.com/assets/colab-badge.svg\" alt=\"Open In Colab\"/></a>"
      ]
    },
    {
      "cell_type": "markdown",
      "metadata": {
        "id": "Tce3stUlHN0L"
      },
      "source": [
        "##### Copyright 2025 Google LLC."
      ]
    },
    {
      "cell_type": "code",
      "execution_count": null,
      "metadata": {
        "cellView": "form",
        "id": "tuOe1ymfHZPu"
      },
      "outputs": [],
      "source": [
        "# @title Licensed under the Apache License, Version 2.0 (the \"License\");\n",
        "# you may not use this file except in compliance with the License.\n",
        "# You may obtain a copy of the License at\n",
        "#\n",
        "# https://www.apache.org/licenses/LICENSE-2.0\n",
        "#\n",
        "# Unless required by applicable law or agreed to in writing, software\n",
        "# distributed under the License is distributed on an \"AS IS\" BASIS,\n",
        "# WITHOUT WARRANTIES OR CONDITIONS OF ANY KIND, either express or implied.\n",
        "# See the License for the specific language governing permissions and\n",
        "# limitations under the License."
      ]
    },
    {
      "cell_type": "markdown",
      "metadata": {
        "id": "yeadDkMiISin"
      },
      "source": [
        "# Gemini API: Authentication Quickstart"
      ]
    },
    {
      "cell_type": "markdown",
      "metadata": {
        "id": "lEXQ3OwKIa-O"
      },
      "source": [
        "<a target=\"_blank\" href=\"https://colab.research.google.com/github/google-gemini/cookbook/blob/main/quickstarts/Authentication.ipynb\"><img src=\"https://colab.research.google.com/assets/colab-badge.svg\" height=30/></a>"
      ]
    },
    {
      "cell_type": "markdown",
      "metadata": {
        "id": "df1767a3d1cc"
      },
      "source": [
        "The Gemini API uses API keys for authentication. This notebook walks you through creating an API key, and using it with the Python SDK or a command-line tool like `curl`."
      ]
    },
    {
      "cell_type": "markdown",
      "metadata": {
        "id": "mhFKmRmxi5B-"
      },
      "source": [
        "## Create an API key\n",
        "\n",
        "You can [create](https://aistudio.google.com/app/apikey) your API key using Google AI Studio with a single click.  \n",
        "\n",
        "Remember to treat your API key like a password. Don't accidentally save it in a notebook or source file you later commit to GitHub. This notebook shows you two ways you can securely store your API key.\n",
        "\n",
        "* If you're using Google Colab, it's recommended to store your key in Colab Secrets.\n",
        "\n",
        "* If you're using a different development environment (or calling the Gemini API through `cURL` in your terminal), it's recommended to store your key in an [environment variable](https://en.wikipedia.org/wiki/Environment_variable).\n",
        "\n",
        "Let's start with Colab Secrets."
      ]
    },
    {
      "cell_type": "markdown",
      "metadata": {
        "id": "dEoigYI9Jw_K"
      },
      "source": [
        "## Add your key to Colab Secrets\n",
        "\n",
        "Add your API key to the Colab Secrets manager to securely store it.\n",
        "\n",
        "1. Open your Google Colab notebook and click on the 🔑 **Secrets** tab in the left panel.\n",
        "   \n",
        "   <img src=\"https://storage.googleapis.com/generativeai-downloads/images/secrets.jpg\" alt=\"You can find the Secrets tab on the left panel.\" width=50%>\n",
        "\n",
        "2. Create a new secret with the name `GOOGLE_API_KEY`.\n",
        "3. Copy and paste your API key into the `Value` input box of `GOOGLE_API_KEY`.\n",
        "4. Toggle the button on the left to allow all notebooks access to the secret.\n"
      ]
    },
    {
      "cell_type": "markdown",
      "metadata": {
        "id": "jRY1eioF4gUB"
      },
      "source": [
        "## Install the Python SDK"
      ]
    },
    {
      "cell_type": "code",
      "execution_count": null,
      "metadata": {
        "id": "xuiLSV7amy3P",
        "outputId": "dcb4db90-a54a-48f3-e487-8739fae078b2"
      },
      "outputs": [
        {
          "name": "stdout",
          "output_type": "stream",
          "text": [
            "\u001b[?25l   \u001b[90m━━━━━━━━━━━━━━━━━━━━━━━━━━━━━━━━━━━━━━━━\u001b[0m \u001b[32m0.0/200.0 kB\u001b[0m \u001b[31m?\u001b[0m eta \u001b[36m-:--:--\u001b[0m\r\u001b[2K   \u001b[91m━━━━━━━━━━━━━━━━━━━━━━━━━━━━━━━━━━━━━━\u001b[0m\u001b[91m╸\u001b[0m\u001b[90m━\u001b[0m \u001b[32m194.6/200.0 kB\u001b[0m \u001b[31m29.4 MB/s\u001b[0m eta \u001b[36m0:00:01\u001b[0m\r\u001b[2K   \u001b[90m━━━━━━━━━━━━━━━━━━━━━━━━━━━━━━━━━━━━━━━━\u001b[0m \u001b[32m200.0/200.0 kB\u001b[0m \u001b[31m5.7 MB/s\u001b[0m eta \u001b[36m0:00:00\u001b[0m\n",
            "\u001b[?25h"
          ]
        }
      ],
      "source": [
        "%pip install -qU 'google-genai>=1.0.0'"
      ]
    },
    {
      "cell_type": "markdown",
      "metadata": {
        "id": "3dw8ygh74mVc"
      },
      "source": [
        "## Configure the SDK with your API key\n",
        "\n",
        "You create a client using your API key, but instead of pasting your key into the notebook, you'll read it from Colab Secrets thanks to `userdata`."
      ]
    },
    {
      "cell_type": "code",
      "execution_count": 1,
      "metadata": {
        "id": "DTl-qZp34sht"
      },
      "outputs": [],
      "source": [
        "from google import genai\n",
        "from google.colab import userdata\n",
        "\n",
        "GOOGLE_API_KEY = userdata.get('GOOGLE_API_KEY')\n",
        "client = genai.Client(api_key=GOOGLE_API_KEY)"
      ]
    },
    {
      "cell_type": "markdown",
      "metadata": {
        "id": "b7ceb7517bf5"
      },
      "source": [
        "Now choose a model. The Gemini API offers different models that are optimized for specific use cases. For more information check [Gemini models](https://ai.google.dev/gemini-api/docs/models)"
      ]
    },
    {
      "cell_type": "code",
      "execution_count": 2,
      "metadata": {
        "id": "7135d9ae3e4b"
      },
      "outputs": [],
      "source": [
        "MODEL_ID = \"gemini-2.5-flash\" # @param [\"gemini-2.5-flash-lite-preview-06-17\",\"gemini-2.0-flash\",\"gemini-2.5-flash\",\"gemini-2.5-pro\"] {\"allow-input\":true, isTemplate: true}"
      ]
    },
    {
      "cell_type": "markdown",
      "metadata": {
        "id": "tr7oAO6-nMsE"
      },
      "source": [
        "And that's it! Now you're ready to call the Gemini API."
      ]
    },
    {
      "cell_type": "code",
      "execution_count": 3,
      "metadata": {
        "id": "n6sXnWrJoKoo",
        "outputId": "55584c79-1b19-4bb3-b2be-8c8d4a6c08dc",
        "colab": {
          "base_uri": "https://localhost:8080/",
          "height": 1000
        }
      },
      "outputs": [
        {
          "output_type": "display_data",
          "data": {
            "text/plain": [
              "<IPython.core.display.Markdown object>"
            ],
            "text/markdown": "Python offers incredibly simple and efficient ways to sort lists, thanks to its highly optimized built-in functions and methods. You generally **do not need to implement sorting algorithms** (like Bubble Sort, Merge Sort, Quick Sort, etc.) yourself in Python for practical use, as the built-in ones are written in C and are much faster.\n\nHere are the primary ways to sort a list in Python:\n\n---\n\n### 1. `list.sort()` (Sorts the list *in-place*)\n\nThis method modifies the original list and returns `None`. It's suitable when you don't need to preserve the original order of the list.\n\n```python\n# Example 1: Basic numeric sort\nmy_list = [3, 1, 4, 1, 5, 9, 2, 6]\nprint(\"Original list (sort()):\", my_list)\n\nmy_list.sort() # Sorts the list in ascending order\nprint(\"Sorted list (in-place):\", my_list)\n\n# Example 2: Sorting in descending order\nmy_list = [3, 1, 4, 1, 5, 9, 2, 6] # Reset for demonstration\nmy_list.sort(reverse=True)\nprint(\"Sorted list (descending):\", my_list)\n\n# Example 3: Sorting strings alphabetically\nwords = [\"banana\", \"apple\", \"date\", \"cherry\"]\nwords.sort()\nprint(\"Sorted words:\", words)\n```\n\n**Key characteristics of `list.sort()`:**\n*   **Modifies original:** Yes, it sorts the list directly.\n*   **Returns `None`:** This is important! Don't do `new_list = old_list.sort()` expecting `new_list` to contain the sorted version. It will be `None`.\n\n---\n\n### 2. `sorted()` (Returns a *new* sorted list)\n\nThis built-in function takes an iterable (like a list, tuple, string, etc.) as input and returns a *new list* containing all items from the iterable in sorted order. The original iterable remains unchanged. This is useful when you need to keep the original list intact.\n\n```python\n# Example 1: Basic numeric sort\noriginal_list = [7, 0, 8, 2, 5, 1, 9]\nprint(\"\\nOriginal list (sorted()):\", original_list)\n\nnew_sorted_list = sorted(original_list) # Creates a new sorted list\nprint(\"New sorted list:\", new_sorted_list)\nprint(\"Original list (unchanged):\", original_list)\n\n# Example 2: Sorting in descending order\ndesc_sorted_list = sorted(original_list, reverse=True)\nprint(\"New sorted list (descending):\", desc_sorted_list)\n\n# Example 3: Sorting a tuple (sorted() works on any iterable)\nmy_tuple = (5, 2, 8, 1, 9)\nsorted_tuple_as_list = sorted(my_tuple)\nprint(\"Sorted tuple (as list):\", sorted_tuple_as_list)\n```\n\n**Key characteristics of `sorted()`:**\n*   **Returns new list:** Yes, it creates a new list, leaving the original iterable untouched.\n*   **Works on any iterable:** Can sort lists, tuples, sets, strings, etc. (though the output is always a list).\n\n---\n\n### 3. Custom Sorting with `key` Argument\n\nBoth `list.sort()` and `sorted()` accept an optional `key` argument. This `key` is a function that will be called on each item in the list before comparisons are made. The return value of this function is what's actually used for sorting. This is incredibly powerful for complex sorting scenarios.\n\n```python\n# Example 1: Sorting strings by length\nwords = [\"apple\", \"banana\", \"kiwi\", \"orange\", \"grape\"]\n# Sorts by the length of each word\nsorted_by_length = sorted(words, key=len)\nprint(\"\\nSorted by length:\", sorted_by_length)\n\n# Example 2: Sorting a list of dictionaries by a specific value (e.g., 'score')\nstudents = [\n    {\"name\": \"Alice\", \"score\": 85, \"age\": 20},\n    {\"name\": \"Bob\", \"score\": 92, \"age\": 22},\n    {\"name\": \"Charlie\", \"score\": 78, \"age\": 21},\n    {\"name\": \"David\", \"score\": 92, \"age\": 19}\n]\n\n# Sort by score in ascending order\nstudents.sort(key=lambda student: student[\"score\"])\nprint(\"\\nStudents sorted by score (asc):\")\nfor student in students:\n    print(student)\n\n# Sort by score in descending order, then by age in ascending order (for ties)\n# Use a tuple for the key function: Python compares tuples element by element\nstudents.sort(key=lambda student: (-student[\"score\"], student[\"age\"]))\nprint(\"\\nStudents sorted by score (desc) then age (asc):\")\nfor student in students:\n    print(student)\n\n# Example 3: Case-insensitive string sort\nnames = [\"Alice\", \"bob\", \"Charlie\", \"david\"]\nsorted_names_ci = sorted(names, key=str.lower)\nprint(\"\\nCase-insensitive sorted names:\", sorted_names_ci)\n```\n\n---\n\n### When to use which:\n\n*   **`list.sort()`**: Use when you need to sort a list and don't mind modifying the original, or if memory is a concern and creating a new list is undesirable.\n*   **`sorted()`**: Use when you need a sorted version of an iterable but want to preserve the original iterable, or when sorting non-list iterables (like tuples or sets).\n\nFor almost all practical sorting tasks in Python, these built-in methods are all you need!"
          },
          "metadata": {}
        }
      ],
      "source": [
        "from IPython.display import Markdown\n",
        "\n",
        "response = client.models.generate_content(\n",
        "    model=MODEL_ID,\n",
        "    contents=\"Please give me python code to sort a list.\"\n",
        ")\n",
        "\n",
        "display(Markdown(response.text))"
      ]
    },
    {
      "cell_type": "markdown",
      "metadata": {
        "id": "BTdQtZri1Brs"
      },
      "source": [
        "## Store your key in an environment variable"
      ]
    },
    {
      "cell_type": "markdown",
      "metadata": {
        "id": "gZDX51Y27pN4"
      },
      "source": [
        "If you're using a different development environment (or calling the Gemini API through `cURL` in your terminal), it's recommended to store your key in an environment variable.\n",
        "\n",
        "To store your key in an environment variable, open your terminal and run:\n",
        "\n",
        "```export GOOGLE_API_KEY=\"YOUR_API_KEY\"```\n",
        "\n",
        "If you're using Python, you can add these two lines to your notebook to read the key:\n",
        "\n",
        "```\n",
        "import os\n",
        "client = genai.Client(api_key=os.environ['GOOGLE_API_KEY'])\n",
        "```\n",
        "\n",
        "Alternatively, if it isn't provided explicitly, the client will look for the API key.\n",
        "\n",
        "```\n",
        "client = genai.Client()\n",
        "```\n",
        "\n",
        "Or, if you're calling the API through your terminal using `cURL`, you can copy and paste this code to read your key from the environment variable.\n",
        "\n",
        "```\n",
        "curl \"https://generativelanguage.googleapis.com/v1beta/models/gemini-2.0-flash:generateContent?key=$GOOGLE_API_KEY\" \\\n",
        "    -H 'Content-Type: application/json' \\\n",
        "    -X POST \\\n",
        "    -d '{\n",
        "      \"contents\": [{\n",
        "        \"parts\":[{\n",
        "          \"text\": \"Please give me Python code to sort a list.\"\n",
        "        }]\n",
        "      }]\n",
        "    }'\n",
        "```\n"
      ]
    },
    {
      "cell_type": "markdown",
      "metadata": {
        "id": "CAOKOcax1xZY"
      },
      "source": [
        "## Learning more\n",
        "\n",
        "Now that you know how to manage your API key, you've everything to [get started](./Get_started.ipynb) with Gemini. Check all the [quickstart guides](https://github.com/google-gemini/cookbook/tree/main/quickstarts) from the Cookbook, and in particular the [Get started](./Get_started.ipynb) one."
      ]
    }
  ],
  "metadata": {
    "colab": {
      "name": "Authentication.ipynb",
      "toc_visible": true,
      "provenance": [],
      "include_colab_link": true
    },
    "google": {
      "image_path": "/site-assets/images/share.png",
      "keywords": [
        "examples",
        "googleai",
        "samplecode",
        "python",
        "embed",
        "function"
      ]
    },
    "kernelspec": {
      "display_name": "Python 3",
      "name": "python3"
    }
  },
  "nbformat": 4,
  "nbformat_minor": 0
}